{
  "cells": [
    {
      "cell_type": "markdown",
      "metadata": {
        "id": "h7Ae-W0e3cKA"
      },
      "source": [
        "[![Open in Colab](https://colab.research.google.com/assets/colab-badge.svg)](https://colab.research.google.com/github/google/vizier/blob/main/docs/tutorials/automl_conf_2023.ipynb)\n",
        "\n",
        "# AutoML-Conf 2023 Industry Day Tutorial: Open Source Vizier\n",
        "\n",
        "## Schedule\n",
        "1. Basics\n",
        "2. Algorithm API\n",
        "3. Benchmark API"
      ]
    },
    {
      "cell_type": "code",
      "execution_count": null,
      "metadata": {
        "collapsed": true,
        "id": "-WRHineDt0wY"
      },
      "outputs": [],
      "source": [
        "# Installation\n",
        "!pip install google-vizier[jax]"
      ]
    },
    {
      "cell_type": "markdown",
      "metadata": {
        "id": "NyHmIJh93p02"
      },
      "source": [
        "# 1. Basics ([Reference](https://oss-vizier.readthedocs.io/en/latest/guides/user/running_vizier.html))\n",
        "\n",
        "Suppose we want to figure out the optimal amount of chocolate to use in a cookie recipe to maximize taste, and the relationship is:\n",
        "$$ \\text{taste} = 1 - 2(\\text{chocolate} - 0.3)^{2}$$ where `chocolate` is within $[0,1]$.\n",
        "\n",
        "**Exercise: Implement a problem statement and evaluation function for the optimization setup above.**"
      ]
    },
    {
      "cell_type": "code",
      "execution_count": null,
      "metadata": {
        "cellView": "form",
        "id": "1VULTTKp6Gjq"
      },
      "outputs": [],
      "source": [
        "# @title Solution (Hidden)\n",
        "from vizier.service import pyvizier as vz\n",
        "\n",
        "problem = vz.ProblemStatement()\n",
        "problem.search_space.root.add_float_param('chocolate', 0.0, 1.0)\n",
        "problem.metric_information.append(\n",
        "    vz.MetricInformation(\n",
        "        name='taste', goal=vz.ObjectiveMetricGoal.MAXIMIZE))\n",
        "\n",
        "def evaluate(chocolate: float) -\u003e float:\n",
        "    return 1 - 2 * (chocolate - 0.3)**2"
      ]
    },
    {
      "cell_type": "markdown",
      "metadata": {
        "id": "IB_112ACOzcc"
      },
      "source": [
        "**Exercise: Use our default optimizer over this objective and print the trajectory over 10 trials.**"
      ]
    },
    {
      "cell_type": "code",
      "execution_count": null,
      "metadata": {
        "cellView": "form",
        "id": "QZZCxwi8PoUM"
      },
      "outputs": [],
      "source": [
        "# @title Solution (Hidden)\n",
        "from vizier.service import clients\n",
        "\n",
        "study_config = vz.StudyConfig.from_problem(problem)\n",
        "study_config.algorithm = 'GAUSSIAN_PROCESS_BANDIT'\n",
        "study_client = clients.Study.from_study_config(study_config, owner='my_name', study_id='cookie_recipe')\n",
        "\n",
        "for _ in range(10):\n",
        "  suggestions = study_client.suggest(count=1)\n",
        "  for suggestion in suggestions:\n",
        "    chocolate = suggestion.parameters['chocolate']\n",
        "    obj = evaluate(chocolate)\n",
        "    print(f'Iteration {suggestion.id}, suggestion (chocolate={chocolate:.3f}) led to taste value {obj:.3f}.')\n",
        "    final_measurement = vz.Measurement({'taste': obj})\n",
        "    suggestion.complete(final_measurement)"
      ]
    },
    {
      "cell_type": "markdown",
      "metadata": {
        "id": "vHRdWSK-RbLb"
      },
      "source": [
        "**Exercise: Use the client to automatically obtain the best trial so-far and all historical trials.**"
      ]
    },
    {
      "cell_type": "code",
      "execution_count": null,
      "metadata": {
        "cellView": "form",
        "id": "OQ4d0SACSLTi"
      },
      "outputs": [],
      "source": [
        "# @title Solution (Hidden)\n",
        "optimal_trial_client = list(study_client.optimal_trials())[0]\n",
        "optimal_trial = optimal_trial_client.materialize()\n",
        "\n",
        "all_trials = [tc.materialize() for tc in study_client.trials()]"
      ]
    },
    {
      "cell_type": "markdown",
      "metadata": {
        "id": "KTu9O_1kTN7M"
      },
      "source": [
        "To visually understand what's going on, we'd better plot the following:\n",
        "\n",
        "1. Objective function curve.\n",
        "\n",
        "2. Historical trials (xy-points)\n",
        "\n",
        "3. Optimal trial (highlighted xy-point)\n",
        "\n",
        "\n",
        "**Exercise: Use the results of previous cells to plot the above in a single figure.**\n",
        "\n"
      ]
    },
    {
      "cell_type": "code",
      "execution_count": null,
      "metadata": {
        "cellView": "form",
        "id": "gPcV0Ct0SmFo"
      },
      "outputs": [],
      "source": [
        "# @title Solution (Hidden)\n",
        "import numpy as np\n",
        "import matplotlib.pyplot as plt\n",
        "\n",
        "plt.figure(figsize=(8, 6))\n",
        "\n",
        "# Visualize the real objective function.\n",
        "xs = np.linspace(0.0, 1.0, num=1000)\n",
        "ys = [evaluate(x) for x in xs]\n",
        "plt.plot(xs, ys, label='actual', color='blue', alpha=0.6)\n",
        "\n",
        "# Visualize all trials so-far.\n",
        "trial_xs = [t.parameters['chocolate'].value for t in all_trials]\n",
        "trial_ys = [evaluate(x) for x in trial_xs]\n",
        "plt.scatter(trial_xs, trial_ys, label='trials', marker='o', color='red')\n",
        "\n",
        "# Mark optimal trial so far.\n",
        "optimal_trial_xs = [optimal_trial.parameters['chocolate'].value]\n",
        "optimal_trial_ys = [evaluate(x) for x in optimal_trial_xs]\n",
        "plt.scatter(optimal_trial_xs, optimal_trial_ys, label='optimal', marker='x', color='green', s = 100)\n",
        "\n",
        "# Plot.\n",
        "plt.legend()\n",
        "plt.title(f'Chocolate vs Taste')\n",
        "plt.xlabel('chocolate')\n",
        "plt.ylabel('taste')\n",
        "\n",
        "plt.show()"
      ]
    },
    {
      "cell_type": "markdown",
      "metadata": {
        "id": "qVsknwQ2UDl6"
      },
      "source": [
        "Of course, our recipe doesn't only include chocolate. For example, we may need to optimize other ingredients, such as salt and sugar. Suppose our new taste objective is defined as:\n",
        "$$ \\text{taste} = 1 - (\\text{chocolate} - 0.2)^{2} - (\\text{salt} - 0.5)^{2} - (\\text{sugar} - 0.3)^{2}$$ where `chocolate`, `salt`, `sugar` are all within $[0,1]$.\n",
        "\n",
        "Also, suppose we wanted to try a different algorithm, such as random search, to quickly and comprehensively cover the search space.\n",
        "\n",
        "**Exercise: How would we setup a new study (problem statement, algorithm) for this problem? This time, loop over 100 trials.**\n"
      ]
    },
    {
      "cell_type": "code",
      "execution_count": null,
      "metadata": {
        "cellView": "form",
        "id": "BfP_Htv6Uqbk"
      },
      "outputs": [],
      "source": [
        "# @title Solution (Hidden)\n",
        "problem = vz.ProblemStatement()\n",
        "problem.search_space.root.add_float_param('chocolate', 0.0, 1.0)\n",
        "problem.search_space.root.add_float_param('salt', 0.0, 1.0)\n",
        "problem.search_space.root.add_float_param('sugar', 0.0, 1.0)\n",
        "problem.metric_information.append(\n",
        "    vz.MetricInformation(\n",
        "        name='taste', goal=vz.ObjectiveMetricGoal.MAXIMIZE))\n",
        "\n",
        "study_config = vz.StudyConfig.from_problem(problem)\n",
        "study_config.algorithm = 'RANDOM_SEARCH'\n",
        "study_client = clients.Study.from_study_config(study_config, owner='my_name', study_id='new_cookie_recipe')\n",
        "\n",
        "def evaluate(chocolate: float, salt: float, sugar: float) -\u003e float:\n",
        "    return 1 - (chocolate - 0.2)**2 - (salt - 0.5)**2 - (sugar - 0.3)**2\n",
        "\n",
        "for _ in range(100):\n",
        "  suggestions = study_client.suggest(count=1)\n",
        "  for suggestion in suggestions:\n",
        "    chocolate = suggestion.parameters['chocolate']\n",
        "    salt = suggestion.parameters['salt']\n",
        "    sugar = suggestion.parameters['sugar']\n",
        "    obj = evaluate(chocolate, salt, sugar)\n",
        "    print(f'Iteration {suggestion.id}, suggestion (chocolate={chocolate:.2f}, salt={salt:.2f}, sugar={sugar:.2f}) led to taste value {obj:.2f}.')\n",
        "    final_measurement = vz.Measurement({'taste': obj})\n",
        "    suggestion.complete(final_measurement)"
      ]
    },
    {
      "cell_type": "markdown",
      "metadata": {
        "id": "W2dVMHI7Zfmk"
      },
      "source": [
        "Our kitchen can simultaneously try out different recipes. This means we can *batch* our evaluations using multiple clients.\n",
        "\n",
        "**Exercise: Using `multiprocessing.pool.ThreadPool`, construct multiple clients to parallelize evaluations on a single machine.**"
      ]
    },
    {
      "cell_type": "code",
      "execution_count": null,
      "metadata": {
        "cellView": "form",
        "id": "F5e2FAhCb5pc"
      },
      "outputs": [],
      "source": [
        "# @title Solution (Hidden)\n",
        "import multiprocessing\n",
        "\n",
        "NUM_CLIENTS = 10\n",
        "NUM_TRIALS_PER_CLIENT = 50\n",
        "\n",
        "def thread_fn(client_id: int):\n",
        "  thread_client = clients.Study.from_resource_name(study_client.resource_name)\n",
        "\n",
        "  for _ in range(NUM_TRIALS_PER_CLIENT):\n",
        "    suggestions = thread_client.suggest(count=1, client_id=str(client_id))\n",
        "    for suggestion in suggestions:\n",
        "      chocolate = suggestion.parameters['chocolate']\n",
        "      salt = suggestion.parameters['salt']\n",
        "      sugar = suggestion.parameters['sugar']\n",
        "\n",
        "      obj = evaluate(chocolate, salt, sugar)\n",
        "      final_measurement = vz.Measurement({'taste': obj})\n",
        "      suggestion.complete(final_measurement)\n",
        "\n",
        "pool = multiprocessing.pool.ThreadPool(NUM_CLIENTS)\n",
        "pool.map(thread_fn, range(NUM_CLIENTS))"
      ]
    },
    {
      "cell_type": "markdown",
      "metadata": {
        "id": "WtYcKBxeGqCQ"
      },
      "source": [
        "Suppose we wanted full control over our server in order to be able to edit the database location, or the list of algorithms supported.\n",
        "\n",
        "**Exercise: Create a server explicitly and have a fresh client connect to this server.**"
      ]
    },
    {
      "cell_type": "code",
      "execution_count": null,
      "metadata": {
        "cellView": "form",
        "id": "258TC7VjITil"
      },
      "outputs": [],
      "source": [
        "# @title Solution (Hidden)\n",
        "from vizier.service import servers\n",
        "server = servers.DefaultVizierServer()\n",
        "clients.environment_variables.server_endpoint = server.endpoint\n",
        "study_client = clients.Study.from_study_config(study_config, owner='owner', study_id='cookie_recipe_new_server')"
      ]
    },
    {
      "cell_type": "markdown",
      "metadata": {
        "id": "e7o_iDd52Y_x"
      },
      "source": [
        "# 2. Algorithm API ([Reference](https://oss-vizier.readthedocs.io/en/latest/guides/index.html#for-developers))\n",
        "\n",
        "Let's take a closer look at the algorithms optimizing our cookie recipes. Let's use Grid Search as an example. Run the setup below."
      ]
    },
    {
      "cell_type": "code",
      "execution_count": null,
      "metadata": {
        "id": "5eMdxvhA4-1A"
      },
      "outputs": [],
      "source": [
        "# @title Required Import\n",
        "from vizier._src.algorithms.designers import grid as grid_lib\n",
        "from vizier.service import pyvizier as vz\n",
        "\n",
        "search_space = vz.SearchSpace()\n",
        "search_space.root.add_float_param('chocolate', 0.0, 1.0)\n",
        "\n",
        "grid_designer = grid_lib.GridSearchDesigner(search_space)"
      ]
    },
    {
      "cell_type": "markdown",
      "metadata": {
        "id": "eH_xGfOW7C1p"
      },
      "source": [
        "**Exercise: Let's use `grid_designer` to generate the first 5 suggestion. Print them.**"
      ]
    },
    {
      "cell_type": "code",
      "execution_count": null,
      "metadata": {
        "cellView": "form",
        "id": "5-W00TOW7nuu"
      },
      "outputs": [],
      "source": [
        "# @title Solution (Hidden)\n",
        "suggestions = grid_designer.suggest(count=5)\n",
        "for s in suggestions:\n",
        "  print(s)"
      ]
    },
    {
      "cell_type": "markdown",
      "metadata": {
        "id": "pj4KqWTj-PeX"
      },
      "source": [
        "GridSearch is a `PartiallySerializableDesigner`, which allows the serialization and de-serlization of the Designer and its current state. The internal state of `grid_designer` can be obtained via `dump()`. States are of form `vz.Metadata` ([Reference](https://oss-vizier.readthedocs.io/en/latest/guides/developer/metadata.html)).\n",
        "\n",
        "**Exercise: Let's inspect the output of `dump()`. What two variables control the state?**\n",
        "\n",
        "NOTE: Do NOT use `print()`."
      ]
    },
    {
      "cell_type": "code",
      "execution_count": null,
      "metadata": {
        "cellView": "form",
        "collapsed": true,
        "id": "K0M_hSvO8P2T"
      },
      "outputs": [],
      "source": [
        "# @title Solution (Hidden)\n",
        "metadata = grid_designer.dump()\n",
        "metadata"
      ]
    },
    {
      "cell_type": "markdown",
      "metadata": {
        "id": "37w06BQpB_bP"
      },
      "source": [
        "We can change the designer's internal state via `load()`.\n",
        "\n",
        "**Exercise: Modify the metadata state to use a grid position. Verify by calling the designer's `suggest()` again.**\n",
        "\n",
        "NOTE: You will need to use `metadata.ns()` to change namespaces."
      ]
    },
    {
      "cell_type": "code",
      "execution_count": null,
      "metadata": {
        "cellView": "form",
        "collapsed": true,
        "id": "lij0Egph_jE2"
      },
      "outputs": [],
      "source": [
        "# @title Solution (Hidden)\n",
        "metadata.ns('grid')['current_index'] = '7'\n",
        "grid_designer.load(metadata)\n",
        "\n",
        "print(grid_designer.suggest()[0])"
      ]
    },
    {
      "cell_type": "markdown",
      "metadata": {
        "id": "BMkn4_S1KBP6"
      },
      "source": [
        "If we wanted to use `GridSearchDesigner` as a hosted service policy, we'll need to wrap it as a `Policy` and then write a `PolicyFactory` for the service.\n",
        "\n",
        "**Exercise: Create a subclass `CustomPolicyFactory` to accomodate our grid designer.** ([Reference](https://github.com/google/vizier/blob/main/vizier/_src/service/policy_factory.py))"
      ]
    },
    {
      "cell_type": "code",
      "execution_count": null,
      "metadata": {
        "cellView": "form",
        "id": "HEvHIRmAFr7C"
      },
      "outputs": [],
      "source": [
        "# @title Solution (Hidden)\n",
        "from vizier import pythia\n",
        "from vizier import algorithms as vza\n",
        "\n",
        "class CustomPolicyFactory(pythia.PolicyFactory):\n",
        "\n",
        "  def __call__(\n",
        "      self,\n",
        "      problem_statement: vz.ProblemStatement,\n",
        "      algorithm: str,\n",
        "      policy_supporter: pythia.PolicySupporter,\n",
        "      study_name: str,\n",
        "  ) -\u003e pythia.Policy:\n",
        "    \"\"\"Creates a Pythia Policy.\"\"\"\n",
        "\n",
        "    if algorithm == 'GRID_SEARCH':\n",
        "      from vizier._src.algorithms.designers import grid\n",
        "\n",
        "      return vza.PartiallySerializableDesignerPolicy(\n",
        "          problem_statement,\n",
        "          policy_supporter,\n",
        "          grid.GridSearchDesigner.from_problem,\n",
        "      )"
      ]
    },
    {
      "cell_type": "markdown",
      "metadata": {
        "id": "ZOfQju0CpX25"
      },
      "source": [
        "We'll need to host our new `CustomPolicyFactory`.\n",
        "\n",
        "**Exercise: Recreate a new Vizier Server to use our new `CustomPolicyFactory`.**"
      ]
    },
    {
      "cell_type": "code",
      "execution_count": null,
      "metadata": {
        "cellView": "form",
        "id": "6-OccAcvpvBW"
      },
      "outputs": [],
      "source": [
        "# @title Solution (Hidden)\n",
        "from vizier.service import servers\n",
        "\n",
        "custom_policy_factory = CustomPolicyFactory()\n",
        "new_server = servers.DefaultVizierServer(policy_factory=custom_policy_factory)"
      ]
    },
    {
      "cell_type": "markdown",
      "metadata": {
        "id": "1ATvZ3Vfg-8T"
      },
      "source": [
        "# 3. Benchmark API ([Reference](https://oss-vizier.readthedocs.io/en/latest/guides/index.html#for-benchmarking))\n",
        "\n",
        "Many times grid search isn't the most efficient algorithm, especially in high dimensions. We'll need to benchmark different algorithms in a systematic way."
      ]
    },
    {
      "cell_type": "code",
      "execution_count": null,
      "metadata": {
        "id": "PSof6ak9mVHI"
      },
      "outputs": [],
      "source": [
        "# @title Required Imports\n",
        "from vizier import benchmarks as vzb\n",
        "from vizier.benchmarks import experimenters\n",
        "from vizier._src.algorithms.designers import random as random_lib"
      ]
    },
    {
      "cell_type": "markdown",
      "metadata": {
        "id": "vlkDM8FxlVWJ"
      },
      "source": [
        "Let's formalize our cookie objective as an `Experimenter` class, which contains an evaluation method and problem statement ([Reference](https://github.com/google/vizier/blob/main/vizier/benchmarks/experimenters/__init__.py)).\n",
        "\n",
        "```python\n",
        "class Experimenter(metaclass=abc.ABCMeta):\n",
        "  \"\"\"Abstract base class for Experimenters.\"\"\"\n",
        "\n",
        "  @abc.abstractmethod\n",
        "  def evaluate(self, suggestions: Sequence[vz.Trial]) -\u003e None:\n",
        "    \"\"\"Evaluates and mutates the Trials in-place.\"\"\"\n",
        "\n",
        "  @abc.abstractmethod\n",
        "  def problem_statement(self) -\u003e vz.ProblemStatement:\n",
        "    \"\"\"The search configuration generated by this experimenter.\"\"\"\n",
        "```\n",
        "\n",
        "NOTE: The Experimenter evaluates and completes the `Trial` in place.\n",
        "\n",
        "**Exercise: Create a custom `CookieExperimenter` for our cookie objective.**"
      ]
    },
    {
      "cell_type": "code",
      "execution_count": null,
      "metadata": {
        "cellView": "form",
        "id": "Bi9r0pzfk8tx"
      },
      "outputs": [],
      "source": [
        "# @title Solution (Hidden)\n",
        "\n",
        "class CookieExperimenter(experimenters.Experimenter):\n",
        "\n",
        "  def evaluate(self, suggestions) -\u003e None:\n",
        "    \"\"\"Evaluates and mutates the Trials in-place.\"\"\"\n",
        "    for suggestion in suggestions:\n",
        "      chocolate = suggestion.parameters['chocolate'].value\n",
        "      salt = suggestion.parameters['salt'].value\n",
        "      sugar = suggestion.parameters['sugar'].value\n",
        "      taste =  1 - (chocolate - 0.2)**2 - (salt - 0.5)**2 - (sugar - 0.3)**2\n",
        "      suggestion.complete(vz.Measurement({'taste': taste}))\n",
        "\n",
        "  def problem_statement(self) -\u003e vz.ProblemStatement:\n",
        "    problem = vz.ProblemStatement()\n",
        "    problem.search_space.root.add_float_param('chocolate', 0.0, 1.0)\n",
        "    problem.search_space.root.add_float_param('salt', 0.0, 1.0)\n",
        "    problem.search_space.root.add_float_param('sugar', 0.0, 1.0)\n",
        "    problem.metric_information.append(\n",
        "        vz.MetricInformation(\n",
        "            name='taste', goal=vz.ObjectiveMetricGoal.MAXIMIZE))\n",
        "    return problem\n"
      ]
    },
    {
      "cell_type": "markdown",
      "metadata": {
        "id": "MuHkug40wpz_"
      },
      "source": [
        "Let's test how the `CookieExperimenter` works using the code below."
      ]
    },
    {
      "cell_type": "code",
      "execution_count": null,
      "metadata": {
        "id": "B92nCTW2m7OB"
      },
      "outputs": [],
      "source": [
        "# @title Test for Exercise\n",
        "experimenter = CookieExperimenter()\n",
        "trial = vz.Trial(parameters={'chocolate': 0.5, 'salt': 0.5, 'sugar': 0.5})\n",
        "experimenter.evaluate([trial])\n",
        "assert trial.final_measurement.metrics['taste'].value == 0.87"
      ]
    },
    {
      "cell_type": "markdown",
      "metadata": {
        "id": "2pyjNsPrnaZz"
      },
      "source": [
        "Now let's run two different algorithms with `CookieExperimenter`. Conceptually, every study is just a simple loop between an algorithm (`Designer`/`Policy`) and objective (`Experimenter`).\n",
        "\n",
        "We use `BenchmarkRunner` routines to specify how to run and modify a `BenchmarkState`, which holds information about the objective via an `Experimenter` and the algorithm itself wrapped by a `PolicySuggester`.\n",
        "\n",
        "```python\n",
        "class BenchmarkState:\n",
        "  \"\"\"State of a benchmark run. It is altered via benchmark protocols.\"\"\"\n",
        "\n",
        "  experimenter: Experimenter\n",
        "  algorithm: PolicySuggester\n",
        "```\n",
        "\n",
        "**Exercise: Initialize BenchmarkStates with Random and Grid Designers.**\n",
        "\n",
        "NOTE: Use `BenchmarkState` factories provided [here](https://github.com/google/vizier/blob/main/vizier/_src/benchmarks/runners/benchmark_state.py)."
      ]
    },
    {
      "cell_type": "code",
      "execution_count": null,
      "metadata": {
        "cellView": "form",
        "id": "_Nsi5N5L9UFH"
      },
      "outputs": [],
      "source": [
        "# @title Solution (Hidden)\n",
        "benchmark_states = []\n",
        "\n",
        "grid_designer_factory = grid_lib.GridSearchDesigner.from_problem\n",
        "grid_state_factory = vzb.DesignerBenchmarkStateFactory(\n",
        "    experimenter=experimenter, designer_factory=grid_designer_factory\n",
        ")\n",
        "benchmark_states.append(grid_state_factory())\n",
        "\n",
        "random_designer_factory = random_lib.RandomDesigner.from_problem\n",
        "random_state_factory = vzb.DesignerBenchmarkStateFactory(\n",
        "    experimenter=experimenter, designer_factory=random_designer_factory\n",
        ")\n",
        "benchmark_states.append(random_state_factory())"
      ]
    },
    {
      "cell_type": "code",
      "execution_count": null,
      "metadata": {
        "id": "kgL_xPAS58NN"
      },
      "outputs": [],
      "source": [
        "# @title Test for Exercise\n",
        "runner = vzb.BenchmarkRunner(\n",
        "      benchmark_subroutines=[\n",
        "          vzb.GenerateSuggestions(),\n",
        "          vzb.EvaluateActiveTrials(),\n",
        "      ],\n",
        "      num_repeats=100,\n",
        "  )\n",
        "for benchmark_state in benchmark_states:\n",
        "  runner.run(benchmark_state)\n",
        "  assert len(benchmark_state.algorithm.supporter.GetTrials()) == 100"
      ]
    },
    {
      "cell_type": "markdown",
      "metadata": {
        "id": "jMLAtg-u_DK-"
      },
      "source": [
        "We can convert `BenchmarkState`s to primitive data formats using our [analysis library](https://github.com/google/vizier/blob/main/vizier/benchmarks/analyzers.py). For single-objectives, we extract and plot the objective metric, which represents the objective of the best `Trial` seen so far."
      ]
    },
    {
      "cell_type": "code",
      "execution_count": null,
      "metadata": {
        "id": "QL8Aph397V8E"
      },
      "outputs": [],
      "source": [
        "# @title Analysis Demonstration\n",
        "from vizier.benchmarks import analyzers\n",
        "import matplotlib.pyplot as plt\n",
        "\n",
        "for idx, benchmark_state in enumerate(benchmark_states):\n",
        "  curve = analyzers.BenchmarkStateAnalyzer.to_curve([benchmark_state])\n",
        "  plt.plot(curve.xs, curve.ys.flatten(), label = f'algo {idx}')\n",
        "plt.legend()\n",
        "plt.xlabel('Number of trials')\n",
        "plt.ylabel('Objective value')\n",
        "plt.show()\n"
      ]
    },
    {
      "cell_type": "markdown",
      "metadata": {
        "id": "8sMKUkik7hi4"
      },
      "source": [
        "Finally, we show the flexibility of our basic setup. In a few lines of code, we can accomplish the following with relative ease:\n",
        "\n",
        "* Add a noisy Cookie benchmark\n",
        "* Add discretization to the chocolate Cookie parameter\n",
        "* Add normalized metrics for analysis\n",
        "* Add another algorithm for comparison\n",
        "* Add repeats and error bars"
      ]
    },
    {
      "cell_type": "code",
      "execution_count": null,
      "metadata": {
        "cellView": "form",
        "id": "2tJ48uvd7bf6"
      },
      "outputs": [],
      "source": [
        "from vizier._src.algorithms.designers.eagle_strategy import eagle_strategy\n",
        "\n",
        "NUM_REPEATS = 5  # @param\n",
        "NUM_ITERATIONS = 100  # @param\n",
        "\n",
        "algorithms = {\n",
        "    'grid': grid_lib.GridSearchDesigner.from_problem,\n",
        "    'random': random_lib.RandomDesigner.from_problem,\n",
        "    'eagle': eagle_strategy.EagleStrategyDesigner,\n",
        "}\n",
        "\n",
        "\n",
        "class CookieExperimenterFactory(experimenters.SerializableExperimenterFactory):\n",
        "\n",
        "  def __call__(self, *, seed=None) -\u003e experimenters.Experimenter:\n",
        "    return CookieExperimenter()\n",
        "\n",
        "  def dump(self):\n",
        "    return vz.Metadata({'name': 'CookieExperimenter'})\n",
        "\n",
        "\n",
        "experimenter_factories = [\n",
        "    CookieExperimenterFactory(),\n",
        "    experimenters.SingleObjectiveExperimenterFactory(\n",
        "        base_factory=CookieExperimenterFactory(),\n",
        "        noise_type='SEVERE_ADDITIVE_GAUSSIAN',\n",
        "    ),\n",
        "    experimenters.SingleObjectiveExperimenterFactory(\n",
        "        base_factory=CookieExperimenterFactory(),\n",
        "        discrete_dict = {0: 4}\n",
        "    )\n",
        "]\n",
        "\n",
        "records = []\n",
        "for experimenter_factory in experimenter_factories:\n",
        "  for algo_name, algo_factory in algorithms.items():\n",
        "    benchmark_state_factory = vzb.ExperimenterDesignerBenchmarkStateFactory(\n",
        "        experimenter_factory=experimenter_factory, designer_factory=algo_factory\n",
        "    )\n",
        "    states = []\n",
        "    for _ in range(NUM_REPEATS):\n",
        "      benchmark_state = benchmark_state_factory()\n",
        "      runner.run(benchmark_state)\n",
        "      states.append(benchmark_state)\n",
        "    record = analyzers.BenchmarkStateAnalyzer.to_record(\n",
        "        algorithm=algo_name,\n",
        "        experimenter_factory=experimenter_factory,\n",
        "        states=states,\n",
        "    )\n",
        "    records.append(record)\n",
        "\n",
        "analyzed_records = analyzers.BenchmarkRecordAnalyzer.add_comparison_metrics(\n",
        "    records=records, baseline_algo='random'\n",
        ")\n",
        "analyzers.plot_from_records(analyzed_records, title_maxlen=100, col_figsize=12)"
      ]
    }
  ],
  "metadata": {
    "colab": {
      "name": "AutoML-Conf 2023 Industry Day Tutorial: OSS Vizier.ipynb",
      "private_outputs": true,
      "provenance": [
        {
          "file_id": "1WQUsZUsREJO1W9Tf8LnW0FUzhriOL8oU",
          "timestamp": 1694275275311
        }
      ]
    },
    "kernelspec": {
      "display_name": "Python 3",
      "name": "python3"
    },
    "language_info": {
      "name": "python"
    }
  },
  "nbformat": 4,
  "nbformat_minor": 0
}
